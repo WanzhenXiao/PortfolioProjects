{
 "cells": [
  {
   "cell_type": "code",
   "execution_count": null,
   "id": "9d6350d0",
   "metadata": {},
   "outputs": [],
   "source": [
    "#import libraries\n",
    "\n",
    "import pandas as pd\n",
    "import seaborn as sns\n",
    "import matplotlib\n",
    "import matplotlib.pyplot as plt\n",
    "plt.style.use('ggplot')\n",
    "from matplotlib.pyplot import figure\n",
    "\n",
    "%matplotlib inline\n",
    "matplotlib.rcParams['figure.figsize']=(12,8) #Adjust the configuration of the plots we will create\n",
    "\n",
    "#read the data, data downloaded from Kaggle\n",
    "df = pd.read_csv('movies.csv')\n",
    "df.head()"
   ]
  },
  {
   "cell_type": "code",
   "execution_count": null,
   "id": "e11348da",
   "metadata": {},
   "outputs": [],
   "source": [
    "df.describe()"
   ]
  },
  {
   "cell_type": "code",
   "execution_count": null,
   "id": "25eeffa8",
   "metadata": {},
   "outputs": [],
   "source": [
    "#Let's look at the data\n",
    "df.info()"
   ]
  },
  {
   "cell_type": "code",
   "execution_count": null,
   "id": "dd8a265b",
   "metadata": {},
   "outputs": [],
   "source": [
    "#Let's see if there is any missing data\n",
    "import numpy as np\n",
    "\n",
    "for col in df.columns:\n",
    "    pct_missing = np.mean(df[col].isnull())\n",
    "    print('{}-{}%'.format(col,pct_missing))"
   ]
  },
  {
   "cell_type": "code",
   "execution_count": null,
   "id": "e205aa75",
   "metadata": {},
   "outputs": [],
   "source": [
    "print(df.isnull().sum())"
   ]
  },
  {
   "cell_type": "code",
   "execution_count": null,
   "id": "7c085708",
   "metadata": {},
   "outputs": [],
   "source": [
    "#Handling with null values by deleting the rows with missing data"
   ]
  },
  {
   "cell_type": "code",
   "execution_count": null,
   "id": "f5f8f2bd",
   "metadata": {},
   "outputs": [],
   "source": [
    "df = df.dropna(axis=0)\n",
    "df.info()"
   ]
  },
  {
   "cell_type": "code",
   "execution_count": null,
   "id": "993ee205",
   "metadata": {},
   "outputs": [],
   "source": [
    "#Data types for our columns\n",
    "df.dtypes"
   ]
  },
  {
   "cell_type": "code",
   "execution_count": null,
   "id": "af266db4",
   "metadata": {
    "scrolled": true
   },
   "outputs": [],
   "source": [
    "#Change data type of columns\n",
    "\n",
    "df['budget'] = df['budget'].astype('int64')\n",
    "df['gross'] = df['gross'].astype('int64')\n",
    "\n",
    "df.dtypes"
   ]
  },
  {
   "cell_type": "code",
   "execution_count": null,
   "id": "ff59af43",
   "metadata": {
    "scrolled": true
   },
   "outputs": [],
   "source": [
    "df.sort_values(by=['gross'],inplace=False, ascending=False)"
   ]
  },
  {
   "cell_type": "code",
   "execution_count": null,
   "id": "0a222694",
   "metadata": {},
   "outputs": [],
   "source": [
    "pd.set_option('display.max_rows',None)"
   ]
  },
  {
   "cell_type": "code",
   "execution_count": null,
   "id": "7e343578",
   "metadata": {},
   "outputs": [],
   "source": [
    "#Drop any duplicates\n",
    "\n",
    "df.drop_duplicates()"
   ]
  },
  {
   "cell_type": "code",
   "execution_count": null,
   "id": "d10955f2",
   "metadata": {},
   "outputs": [],
   "source": [
    "df.info()"
   ]
  },
  {
   "cell_type": "code",
   "execution_count": null,
   "id": "89750355",
   "metadata": {},
   "outputs": [],
   "source": [
    "# scatter plot with budget vs gross\n",
    "\n",
    "plt.scatter(x=df['budget'], y=df['gross'])\n",
    "\n",
    "plt.title('Budget vs Gross Earning')\n",
    "plt.xlabel('Gross Earnings')\n",
    "plt.ylabel('Budget for film')\n",
    "plt.scatter"
   ]
  },
  {
   "cell_type": "code",
   "execution_count": null,
   "id": "15c9789a",
   "metadata": {},
   "outputs": [],
   "source": [
    "df.head()"
   ]
  },
  {
   "cell_type": "code",
   "execution_count": null,
   "id": "e48c737d",
   "metadata": {},
   "outputs": [],
   "source": [
    "# Plot budget vs gross using seaborn\n",
    "\n",
    "sns.regplot(x='budget', y='gross',data=df,scatter_kws={\"color\":\"red\"}, line_kws={\"color\":\"blue\"})"
   ]
  },
  {
   "cell_type": "code",
   "execution_count": null,
   "id": "155b81e8",
   "metadata": {},
   "outputs": [],
   "source": [
    "# Let's start looking at correlation\n",
    "# pearson, kendall,spearman\n",
    "df.corr(method='pearson')"
   ]
  },
  {
   "cell_type": "code",
   "execution_count": null,
   "id": "8c483960",
   "metadata": {},
   "outputs": [],
   "source": [
    "df.corr(method='kendall')"
   ]
  },
  {
   "cell_type": "code",
   "execution_count": null,
   "id": "5b57d229",
   "metadata": {},
   "outputs": [],
   "source": [
    "df.corr(method='spearman')"
   ]
  },
  {
   "cell_type": "code",
   "execution_count": null,
   "id": "f06eebe1",
   "metadata": {},
   "outputs": [],
   "source": [
    "# High correlation between budget and gross"
   ]
  },
  {
   "cell_type": "code",
   "execution_count": null,
   "id": "6bd68abd",
   "metadata": {},
   "outputs": [],
   "source": [
    "correlation_matrix = df.corr(method='pearson')\n",
    "\n",
    "sns.heatmap(correlation_matrix, annot=True)\n",
    "\n",
    "plt.title('Correlation Matric for Numeric Features')\n",
    "plt.xlabel('Movie Feature')\n",
    "plt.ylabel('Movei Feature')\n",
    "plt.show()"
   ]
  },
  {
   "cell_type": "code",
   "execution_count": null,
   "id": "87bdfc82",
   "metadata": {},
   "outputs": [],
   "source": [
    "df.head()"
   ]
  },
  {
   "cell_type": "code",
   "execution_count": null,
   "id": "ca45f897",
   "metadata": {},
   "outputs": [],
   "source": [
    "correlation_matrix = df.corr(method='pearson')\n",
    "\n",
    "sns.heatmap(correlation_matrix, annot=True)\n",
    "\n",
    "plt.title('Correlation Matric for Numeric Features')\n",
    "plt.xlabel('Movie Feature')\n",
    "plt.ylabel('Movei Feature')\n",
    "plt.show()"
   ]
  },
  {
   "cell_type": "code",
   "execution_count": null,
   "id": "8617b56a",
   "metadata": {},
   "outputs": [],
   "source": [
    "correlation_mat = df.corr(method='pearson')\n",
    "\n",
    "corr_pairs = correlation_mat.unstack()\n",
    "\n",
    "corr_pairs"
   ]
  },
  {
   "cell_type": "code",
   "execution_count": null,
   "id": "2ad86719",
   "metadata": {},
   "outputs": [],
   "source": [
    "sorted_pairs = corr_pairs.sort_values()\n",
    "sorted_pairs"
   ]
  },
  {
   "cell_type": "code",
   "execution_count": null,
   "id": "79218e0b",
   "metadata": {},
   "outputs": [],
   "source": [
    "high_corr = sorted_pairs[(sorted_pairs)>0.5]\n",
    "high_corr"
   ]
  },
  {
   "cell_type": "code",
   "execution_count": null,
   "id": "abc47422",
   "metadata": {},
   "outputs": [],
   "source": [
    "# votes and budget have the highest correlation to gross earnings"
   ]
  },
  {
   "cell_type": "code",
   "execution_count": null,
   "id": "321d877f",
   "metadata": {},
   "outputs": [],
   "source": [
    "df.info()"
   ]
  },
  {
   "cell_type": "code",
   "execution_count": null,
   "id": "7e97fe1b",
   "metadata": {},
   "outputs": [],
   "source": [
    "# Looking at the top 15 compaies by gross revenue\n",
    "\n",
    "CompanyGrossSum = df.groupby('company',as_index=False)['gross'].sum()\n",
    "\n",
    "CompanyGrossSumSorted = CompanyGrossSum.sort_values('gross', ascending = False)[:15]\n",
    "\n",
    "CompanyGrossSumSorted"
   ]
  },
  {
   "cell_type": "code",
   "execution_count": null,
   "id": "a36e2eeb",
   "metadata": {},
   "outputs": [],
   "source": [
    "CompanyGrossSumYear = df.groupby(['company', 'year'],as_index=False)['gross'].sum()\n",
    "\n",
    "CompanyGrossSumSortedYear = CompanyGrossSumYear.sort_values(['gross','company','year'], ascending = False)[:15]\n",
    "\n",
    "CompanyGrossSumSortedYear"
   ]
  },
  {
   "cell_type": "code",
   "execution_count": null,
   "id": "3d4309a2",
   "metadata": {},
   "outputs": [],
   "source": [
    "plt.scatter(x=df['budget'],y=df['gross'],alpha=0.5)\n",
    "plt.title('Budget vs Gross Earnings')\n",
    "plt.xlabel('Budget')\n",
    "plt.ylabel('Gross Earnings')\n",
    "plt.show()"
   ]
  },
  {
   "cell_type": "code",
   "execution_count": null,
   "id": "44f334ca",
   "metadata": {},
   "outputs": [],
   "source": []
  }
 ],
 "metadata": {
  "kernelspec": {
   "display_name": "Python 3",
   "language": "python",
   "name": "python3"
  },
  "language_info": {
   "codemirror_mode": {
    "name": "ipython",
    "version": 3
   },
   "file_extension": ".py",
   "mimetype": "text/x-python",
   "name": "python",
   "nbconvert_exporter": "python",
   "pygments_lexer": "ipython3",
   "version": "3.8.8"
  }
 },
 "nbformat": 4,
 "nbformat_minor": 5
}
