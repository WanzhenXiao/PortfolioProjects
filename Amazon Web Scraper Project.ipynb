{
 "cells": [
  {
   "cell_type": "code",
   "execution_count": 1,
   "id": "2abe98b5",
   "metadata": {},
   "outputs": [],
   "source": [
    "#import libraries\n",
    "\n",
    "from bs4 import BeautifulSoup\n",
    "import requests\n",
    "import time\n",
    "import datetime\n",
    "import smtplib"
   ]
  },
  {
   "cell_type": "code",
   "execution_count": 31,
   "id": "9deadb0e",
   "metadata": {},
   "outputs": [
    {
     "name": "stdout",
     "output_type": "stream",
     "text": [
      "Penny Scallan Rain Coat\n",
      "101.73\n"
     ]
    },
    {
     "data": {
      "text/plain": [
       "str"
      ]
     },
     "execution_count": 31,
     "metadata": {},
     "output_type": "execute_result"
    }
   ],
   "source": [
    "#Connect to website\n",
    "\n",
    "URL = 'https://www.amazon.com.au/Penny-Scallan-Raincoat-Space-Monkey/dp/B01K9SD7HU/ref=sr_1_1?crid=10LJAT5Y3KGUO&keywords=penny+raincoat&qid=1647080447&sprefix=penny+raincoat%2Caps%2C721&sr=8-1'\n",
    "\n",
    "headers = {\n",
    "    \"User-Agent\": \"Mozilla/5.0 (Macintosh; Intel Mac OS X 10_15_7) AppleWebKit/605.1.15 (KHTML, like Gecko) Version/15.2 Safari/605.1.15\", \n",
    "    \"Accept-Encoding\": \"gzip, deflate, br\", \n",
    "    \"Accept\": \"text/html,application/xhtml+xml,application/xml;q=0.9,*/*;q=0.8\",\n",
    "    \"DNT\":\"1\",\n",
    "    \"Connection\":\"close\", \n",
    "    \"Upgrade-Insecure-requests\":\"1\"\n",
    "}\n",
    "\n",
    "page = requests.get(URL,headers=headers)\n",
    "\n",
    "soup1 = BeautifulSoup(page.content,\"html.parser\")\n",
    "\n",
    "soup2 = BeautifulSoup(soup1.prettify(),\"html.parser\")\n",
    "\n",
    "title = soup2.find(id='productTitle').get_text()\n",
    "price_spans = soup2.find_all(\"span\", {\"class\": \"a-price aok-align-center reinventPricePriceToPayPadding priceToPay\"})\n",
    "# print(price_spans)\n",
    "# print(price_spans[0].find_all(\"span\", {\"class\": \"a-offscreen\"}))\n",
    "\n",
    "price = price_spans[0].find_all(\"span\", {\"class\": \"a-offscreen\"})[0].get_text().strip()[1:]\n",
    "title = title.strip()\n",
    "\n",
    "print(title)\n",
    "print(price)\n",
    "type(price)"
   ]
  },
  {
   "cell_type": "code",
   "execution_count": 35,
   "id": "9d0e61f7",
   "metadata": {},
   "outputs": [
    {
     "name": "stdout",
     "output_type": "stream",
     "text": [
      "2022-03-12\n"
     ]
    }
   ],
   "source": [
    "import datetime\n",
    "\n",
    "today = datetime.date.today()\n",
    "\n",
    "print(today)"
   ]
  },
  {
   "cell_type": "code",
   "execution_count": 37,
   "id": "fd94733d",
   "metadata": {},
   "outputs": [],
   "source": [
    "import csv\n",
    "\n",
    "header = ['Title','Price','Date']\n",
    "data = [title,price,today]\n",
    "\n",
    "#with open('AmanzonWebScraperDataset.csv','w',newline='',encoding='UTF8') as f:\n",
    "    #writer = csv.writer(f)\n",
    "    #writer.writerow(header)\n",
    "    #writer.writerow(data)\n",
    "\n"
   ]
  },
  {
   "cell_type": "code",
   "execution_count": 38,
   "id": "26db3cab",
   "metadata": {},
   "outputs": [
    {
     "name": "stdout",
     "output_type": "stream",
     "text": [
      "                     Title   Price        Date\n",
      "0  Penny Scallan Rain Coat  101.73  2022-03-12\n"
     ]
    }
   ],
   "source": [
    "import pandas as pd\n",
    "df = pd.read_csv('AmanzonWebScraperDataset.csv')\n",
    "print(df)"
   ]
  },
  {
   "cell_type": "code",
   "execution_count": 42,
   "id": "f4fdcb28",
   "metadata": {},
   "outputs": [],
   "source": [
    "#Now we are appending data to the csv\n",
    "\n",
    "with open('AmanzonWebScraperDataset.csv','a+',newline='',encoding='UTF8') as f:\n",
    "    writer = csv.writer(f)\n",
    "    writer.writerow(data)"
   ]
  },
  {
   "cell_type": "code",
   "execution_count": 45,
   "id": "24389cfa",
   "metadata": {},
   "outputs": [],
   "source": [
    "def check_price():\n",
    "    URL = 'https://www.amazon.com.au/Penny-Scallan-Raincoat-Space-Monkey/dp/B01K9SD7HU/ref=sr_1_1?crid=10LJAT5Y3KGUO&keywords=penny+raincoat&qid=1647080447&sprefix=penny+raincoat%2Caps%2C721&sr=8-1'\n",
    "\n",
    "    headers = {\n",
    "    \"User-Agent\": \"Mozilla/5.0 (Macintosh; Intel Mac OS X 10_15_7) AppleWebKit/605.1.15 (KHTML, like Gecko) Version/15.2 Safari/605.1.15\", \n",
    "    \"Accept-Encoding\": \"gzip, deflate, br\", \n",
    "    \"Accept\": \"text/html,application/xhtml+xml,application/xml;q=0.9,*/*;q=0.8\",\n",
    "    \"DNT\":\"1\",\n",
    "    \"Connection\":\"close\", \n",
    "    \"Upgrade-Insecure-requests\":\"1\"\n",
    "    }\n",
    "\n",
    "    page = requests.get(URL,headers=headers)\n",
    "\n",
    "    soup1 = BeautifulSoup(page.content,\"html.parser\")\n",
    "\n",
    "    soup2 = BeautifulSoup(soup1.prettify(),\"html.parser\")\n",
    "\n",
    "    title = soup2.find(id='productTitle').get_text()\n",
    "    \n",
    "    price_spans = soup2.find_all(\"span\", {\"class\": \"a-price aok-align-center reinventPricePriceToPayPadding priceToPay\"})\n",
    "\n",
    "    price = price_spans[0].find_all(\"span\", {\"class\": \"a-offscreen\"})[0].get_text().strip()[1:]\n",
    "    title = title.strip()\n",
    "    \n",
    "    import datetime\n",
    "\n",
    "    today = datetime.date.today()\n",
    "    \n",
    "    import csv\n",
    "\n",
    "    header = ['Title','Price','Date']\n",
    "    data = [title,price,today]\n",
    "    \n",
    "    with open('AmanzonWebScraperDataset.csv','a+',newline='',encoding='UTF8') as f:\n",
    "        writer = csv.writer(f)\n",
    "        writer.writerow(data)\n"
   ]
  },
  {
   "cell_type": "code",
   "execution_count": 47,
   "id": "88b7d895",
   "metadata": {},
   "outputs": [
    {
     "ename": "KeyboardInterrupt",
     "evalue": "",
     "output_type": "error",
     "traceback": [
      "\u001b[0;31m---------------------------------------------------------------------------\u001b[0m",
      "\u001b[0;31mKeyboardInterrupt\u001b[0m                         Traceback (most recent call last)",
      "\u001b[0;32m<ipython-input-47-9d49b55d09d0>\u001b[0m in \u001b[0;36m<module>\u001b[0;34m\u001b[0m\n\u001b[1;32m      1\u001b[0m \u001b[0;32mwhile\u001b[0m\u001b[0;34m(\u001b[0m\u001b[0;32mTrue\u001b[0m\u001b[0;34m)\u001b[0m\u001b[0;34m:\u001b[0m\u001b[0;34m\u001b[0m\u001b[0;34m\u001b[0m\u001b[0m\n\u001b[1;32m      2\u001b[0m     \u001b[0mcheck_price\u001b[0m\u001b[0;34m(\u001b[0m\u001b[0;34m)\u001b[0m\u001b[0;34m\u001b[0m\u001b[0;34m\u001b[0m\u001b[0m\n\u001b[0;32m----> 3\u001b[0;31m     \u001b[0mtime\u001b[0m\u001b[0;34m.\u001b[0m\u001b[0msleep\u001b[0m\u001b[0;34m(\u001b[0m\u001b[0;36m5\u001b[0m\u001b[0;34m)\u001b[0m\u001b[0;34m\u001b[0m\u001b[0;34m\u001b[0m\u001b[0m\n\u001b[0m",
      "\u001b[0;31mKeyboardInterrupt\u001b[0m: "
     ]
    }
   ],
   "source": [
    "while(True):\n",
    "    check_price()\n",
    "    time.sleep(86400)"
   ]
  },
  {
   "cell_type": "code",
   "execution_count": 48,
   "id": "7e90513c",
   "metadata": {},
   "outputs": [
    {
     "name": "stdout",
     "output_type": "stream",
     "text": [
      "                      Title   Price        Date\n",
      "0   Penny Scallan Rain Coat  101.73  2022-03-12\n",
      "1   Penny Scallan Rain Coat  101.73  2022-03-12\n",
      "2   Penny Scallan Rain Coat  101.73  2022-03-12\n",
      "3   Penny Scallan Rain Coat  101.73  2022-03-12\n",
      "4   Penny Scallan Rain Coat  101.73  2022-03-12\n",
      "5   Penny Scallan Rain Coat  101.73  2022-03-12\n",
      "6   Penny Scallan Rain Coat  101.73  2022-03-12\n",
      "7   Penny Scallan Rain Coat  101.73  2022-03-12\n",
      "8   Penny Scallan Rain Coat  101.73  2022-03-12\n",
      "9   Penny Scallan Rain Coat  101.73  2022-03-12\n",
      "10  Penny Scallan Rain Coat  101.73  2022-03-12\n",
      "11  Penny Scallan Rain Coat  101.73  2022-03-12\n",
      "12  Penny Scallan Rain Coat  101.73  2022-03-12\n",
      "13  Penny Scallan Rain Coat  101.73  2022-03-12\n",
      "14  Penny Scallan Rain Coat  101.73  2022-03-12\n",
      "15  Penny Scallan Rain Coat  101.73  2022-03-12\n",
      "16  Penny Scallan Rain Coat  101.73  2022-03-12\n",
      "17  Penny Scallan Rain Coat  101.73  2022-03-12\n",
      "18  Penny Scallan Rain Coat  101.73  2022-03-12\n",
      "19  Penny Scallan Rain Coat  101.73  2022-03-12\n",
      "20  Penny Scallan Rain Coat  101.73  2022-03-12\n",
      "21  Penny Scallan Rain Coat  101.73  2022-03-12\n",
      "22  Penny Scallan Rain Coat  101.73  2022-03-12\n",
      "23  Penny Scallan Rain Coat  101.73  2022-03-12\n",
      "24  Penny Scallan Rain Coat  101.73  2022-03-12\n"
     ]
    }
   ],
   "source": [
    "import pandas as pd\n",
    "df = pd.read_csv('AmanzonWebScraperDataset.csv')\n",
    "print(df)"
   ]
  },
  {
   "cell_type": "code",
   "execution_count": null,
   "id": "c8604897",
   "metadata": {},
   "outputs": [],
   "source": []
  },
  {
   "cell_type": "code",
   "execution_count": null,
   "id": "0aec7c98",
   "metadata": {},
   "outputs": [],
   "source": []
  }
 ],
 "metadata": {
  "kernelspec": {
   "display_name": "Python 3",
   "language": "python",
   "name": "python3"
  },
  "language_info": {
   "codemirror_mode": {
    "name": "ipython",
    "version": 3
   },
   "file_extension": ".py",
   "mimetype": "text/x-python",
   "name": "python",
   "nbconvert_exporter": "python",
   "pygments_lexer": "ipython3",
   "version": "3.8.8"
  }
 },
 "nbformat": 4,
 "nbformat_minor": 5
}
